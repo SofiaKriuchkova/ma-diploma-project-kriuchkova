{
 "cells": [
  {
   "cell_type": "code",
   "execution_count": 13,
   "id": "53987d49-8841-47ec-a186-9705593e31d5",
   "metadata": {},
   "outputs": [],
   "source": [
    "import json\n",
    "import os\n",
    "import csv\n",
    "import glob\n",
    "import pandas as pd\n",
    "from collections import Counter\n",
    "from estnltk import Text\n",
    "from estnltk.converters import json_to_text\n",
    "from pandas import DataFrame\n",
    "import statsmodels.api as sm\n",
    "from statsmodels.formula.api import ols\n",
    "from statsmodels.stats.multicomp import pairwise_tukeyhsd"
   ]
  },
  {
   "cell_type": "code",
   "execution_count": 2,
   "id": "c8e792b3-c289-493d-8461-1a7e66c897f0",
   "metadata": {},
   "outputs": [],
   "source": [
    "def speech_jsonist_per_episode(dir, gender_tag):\n",
    "\n",
    "    episodid = []\n",
    "    \n",
    "    for fail in os.listdir(dir):\n",
    "        f_nimi = os.path.join(dir, fail)\n",
    "        if not fail.endswith('.json'):\n",
    "            continue\n",
    "        with open(f_nimi, 'r') as f:\n",
    "       \n",
    "            andmed = json.load(f)\n",
    "            \n",
    "        total_seconds = 0.0 \n",
    "        turns = []\n",
    "        for section in andmed['sections']:\n",
    "            if 'turns' in section.keys():\n",
    "                start, end = float(section['start']), float(section['end'])\n",
    "                total_seconds += (end - start)\n",
    "                for t in section['turns']:\n",
    "                    turns.append(t['transcript'])\n",
    "        episodid.append({\n",
    "            'episode_id': fail.replace('.json',''),\n",
    "            'gender': gender_tag,\n",
    "            'minutid': total_seconds / 60.0,\n",
    "            'transcript': ' '.join(turns)\n",
    "        })\n",
    "    return episodid"
   ]
  },
  {
   "cell_type": "code",
   "execution_count": 3,
   "id": "97141242-3cef-487d-98e5-17d9196d57f8",
   "metadata": {},
   "outputs": [],
   "source": [
    "men_eps = speech_jsonist_per_episode('mehed', 'M')\n",
    "women_eps = speech_jsonist_per_episode('naised', 'F')\n",
    "all_eps = men_eps + women_eps"
   ]
  },
  {
   "cell_type": "code",
   "execution_count": 4,
   "id": "ab735859-7f59-4604-b5dd-3e91a370ee7f",
   "metadata": {},
   "outputs": [],
   "source": [
    "def count_pos_features(transcript, minutid):\n",
    "    txt = Text(transcript).tag_layer('morph_analysis')\n",
    "    counters = { PoS: Counter() for PoS in\n",
    "                 ['asesõnad','omadussõnad','nimisõnad','adverbid','verbid','partiklid','kaassõnad'] }\n",
    "    map_tag = {'P':'asesõnad','A':'omadussõnad','S':'nimisõnad',\n",
    "               'D':'adverbid','V':'verbid','I':'partiklid','K':'kaassõnad'}\n",
    "    for token in txt.morph_analysis:\n",
    "        tag = token.partofspeech[0]\n",
    "        if tag in map_tag:\n",
    "            lemma = token.lemma[0].lower()\n",
    "            counters[map_tag[tag]][lemma] += 1\n",
    "  \n",
    "    rows = []\n",
    "    for pos, ctr in counters.items():\n",
    "        raw = sum(ctr.values())\n",
    "        norm = (raw / minutid) * 60 if minutid>0 else 0.0\n",
    "        rows.append({'sõnaliigid': pos,\n",
    "                     'raw_count': raw,\n",
    "                     'freq_per_60_min': norm})\n",
    "    return rows"
   ]
  },
  {
   "cell_type": "code",
   "execution_count": 5,
   "id": "146553bf-63bf-41b8-b110-3d3065333af8",
   "metadata": {},
   "outputs": [],
   "source": [
    "records = []\n",
    "for ep in all_eps:\n",
    "    rows = count_pos_features(ep['transcript'], ep['minutid'])\n",
    "    for r in rows:\n",
    "        records.append({\n",
    "            'episode_id': ep['episode_id'],\n",
    "            'gender': ep['gender'],\n",
    "            'sõnaliigid': r['sõnaliigid'],\n",
    "            'minutid': ep['minutid'],\n",
    "            'raw_count': r['raw_count'],\n",
    "            'freq_per_60_min': r['freq_per_60_min']\n",
    "        })\n",
    "\n",
    "df = pd.DataFrame.from_records(records)"
   ]
  },
  {
   "cell_type": "code",
   "execution_count": 6,
   "id": "12037673-c8c3-4172-b817-10afca0e0ae8",
   "metadata": {},
   "outputs": [
    {
     "name": "stdout",
     "output_type": "stream",
     "text": [
      "                               sum_sq     df           F        PR(>F)\n",
      "C(sõnaliigid)            3.646689e+08    6.0  999.242838  0.000000e+00\n",
      "C(gender)                2.553416e+06    1.0   41.980264  1.697950e-10\n",
      "C(sõnaliigid):C(gender)  1.653702e+06    6.0    4.531369  1.601865e-04\n",
      "Residual                 4.428002e+07  728.0         NaN           NaN\n"
     ]
    }
   ],
   "source": [
    "df.to_csv('pos_by_episode.csv', index=False)\n",
    "\n",
    "# ANOVA\n",
    "\n",
    "model = ols('freq_per_60_min ~ C(sõnaliigid)*C(gender)', data=df).fit()\n",
    "anova_table = sm.stats.anova_lm(model, typ=2)\n",
    "print(anova_table)"
   ]
  },
  {
   "cell_type": "code",
   "execution_count": 7,
   "id": "aa31f6cc-b93f-4ac4-89ee-6943ac8d47bc",
   "metadata": {},
   "outputs": [
    {
     "name": "stdout",
     "output_type": "stream",
     "text": [
      "           pos1         group1         group2  meandiff   p-adj     lower  \\\n",
      "6      adverbid     F_adverbid     M_adverbid -208.5603  0.0013 -370.2396   \n",
      "19     asesõnad     F_asesõnad     M_asesõnad -216.4106  0.0007 -378.0899   \n",
      "31    kaassõnad    F_kaassõnad    M_kaassõnad  -13.1389  1.0000 -174.8181   \n",
      "42    nimisõnad    F_nimisõnad    M_nimisõnad -101.2607  0.6960 -262.9400   \n",
      "52  omadussõnad  F_omadussõnad  M_omadussõnad  -61.0627  0.9924 -222.7420   \n",
      "61    partiklid    F_partiklid    M_partiklid   11.4435  1.0000 -150.2357   \n",
      "69       verbid       F_verbid       M_verbid -234.6309  0.0001 -396.3102   \n",
      "\n",
      "       upper  reject  \n",
      "6   -46.8811    True  \n",
      "19  -54.7314    True  \n",
      "31  148.5403   False  \n",
      "42   60.4185   False  \n",
      "52  100.6165   False  \n",
      "61  173.1227   False  \n",
      "69  -72.9517    True  \n"
     ]
    }
   ],
   "source": [
    "# „sugu + PoS“ moodustamine\n",
    "df['group'] = df['gender'] + '_' + df['sõnaliigid']\n",
    "\n",
    "# Tukey\n",
    "tukey = pairwise_tukeyhsd(\n",
    "    endog=df['freq_per_60_min'],\n",
    "    groups=df['group'],\n",
    "    alpha=0.05\n",
    ")\n",
    "\n",
    "# DataFrame\n",
    "res = pd.DataFrame(tukey._results_table.data[1:], \n",
    "                   columns=tukey._results_table.data[0])\n",
    "\n",
    "# group1/group2\n",
    "res[['g1','pos1']] = res['group1'].str.split('_', expand=True)\n",
    "res[['g2','pos2']] = res['group2'].str.split('_', expand=True)\n",
    "\n",
    "# F_vs_M PoS'i sees\n",
    "res_simple = res[(res['pos1']==res['pos2']) & (res['g1'] != res['g2'])]\n",
    "\n",
    "print(res_simple[['pos1','group1','group2','meandiff','p-adj','lower','upper','reject']])"
   ]
  },
  {
   "cell_type": "code",
   "execution_count": 8,
   "id": "4598bfb7-9d70-4b5e-a12b-a779970f4797",
   "metadata": {},
   "outputs": [
    {
     "name": "stdout",
     "output_type": "stream",
     "text": [
      "asesõnad: t=2.64, p=0.0100\n",
      "omadussõnad: t=5.29, p=0.0000\n",
      "nimisõnad: t=2.34, p=0.0210\n",
      "adverbid: t=3.39, p=0.0012\n",
      "verbid: t=3.45, p=0.0009\n",
      "partiklid: t=-2.19, p=0.0314\n",
      "kaassõnad: t=1.95, p=0.0535\n"
     ]
    }
   ],
   "source": [
    "from scipy.stats import ttest_ind\n",
    "\n",
    "for pos in df['sõnaliigid'].unique():\n",
    "    sub = df[df['sõnaliigid']==pos]\n",
    "    f = sub[sub.gender=='F']['freq_per_60_min']\n",
    "    m = sub[sub.gender=='M']['freq_per_60_min']\n",
    "    stat, p = ttest_ind(f, m, equal_var=False)\n",
    "    print(f\"{pos}: t={stat:.2f}, p={p:.4f}\")"
   ]
  },
  {
   "cell_type": "code",
   "execution_count": 9,
   "id": "9be79692-6468-4bc3-a6b7-d84c94aa778a",
   "metadata": {},
   "outputs": [
    {
     "data": {
      "image/png": "[encoded data removed]",
      "text/plain": [
       "<Figure size 640x480 with 1 Axes>"
      ]
     },
     "metadata": {},
     "output_type": "display_data"
    }
   ],
   "source": [
    "import matplotlib.pyplot as plt\n",
    "import statsmodels.api as sm\n",
    "from statsmodels.graphics.factorplots import interaction_plot\n",
    "\n",
    "fig = interaction_plot(\n",
    "    df['sõnaliigid'], df['gender'], df['freq_per_60_min'],\n",
    "    colors=['tab:blue','tab:orange'], markers=['o','s'], ms=6\n",
    ")\n",
    "plt.ylabel('freq_per_60_min')\n",
    "plt.xlabel('sõnaliigid')\n",
    "plt.title('PoS × Sugu')\n",
    "plt.show()"
   ]
  },
  {
   "cell_type": "code",
   "execution_count": 10,
   "id": "dd91d792-a2d0-42a7-b366-5dd9b4eed664",
   "metadata": {},
   "outputs": [],
   "source": [
    "def loendamine(kone_episodist):\n",
    "    tekst = Text(kone_episodist).tag_layer('morph_analysis')\n",
    "    counters = {\n",
    "        'omadussõnad': Counter(),\n",
    "        'nimisõnad':   Counter(),\n",
    "        'adverbid':    Counter(),\n",
    "        'verbid':      Counter(),\n",
    "        'asesõnad':    Counter(),\n",
    "        'partiklid':   Counter(),\n",
    "        'kaassõnad':   Counter(),\n",
    "    }\n",
    "    tag_map = {'A':'omadussõnad','S':'nimisõnad','D':'adverbid',\n",
    "               'V':'verbid','P':'asesõnad','I':'partiklid','K':'kaassõnad'}\n",
    "\n",
    "    for token in tekst.morph_analysis:\n",
    "        tag = token.partofspeech[0]\n",
    "        if tag in tag_map:\n",
    "            key = tag_map[tag]\n",
    "            # partiklide kohta võtan teksti\n",
    "            form = token.text.lower() if tag=='I' else token.lemma[0].lower()\n",
    "            counters[key][form] += 1\n",
    "\n",
    "    return counters\n",
    "\n",
    "# DataFrame kõikide pos ja episodide jaoks\n",
    "records = []\n",
    "for ep in all_eps:\n",
    "    counts = loendamine(ep['transcript'])\n",
    "    for pos, counter in counts.items():\n",
    "        for form, cnt in counter.items():\n",
    "            records.append({\n",
    "                'episode_id':      ep['episode_id'],\n",
    "                'gender':          ep['gender'],\n",
    "                'minutid':         ep['minutid'],\n",
    "                'sõnaliik':        pos,\n",
    "                'feature':         form,\n",
    "                'raw_count':       cnt,\n",
    "                'freq_per_60_min': (cnt / ep['minutid']) * 60 if ep['minutid']>0 else 0.0\n",
    "            })\n",
    "\n",
    "df_all_pos = pd.DataFrame(records)\n",
    "\n",
    "# CSV\n",
    "df_all_pos.to_csv('all_pos_by_episode.csv', index=False)"
   ]
  },
  {
   "cell_type": "code",
   "execution_count": 11,
   "id": "d9b84c58-887b-4d62-8c40-6cd17cd8adf3",
   "metadata": {},
   "outputs": [
    {
     "name": "stdout",
     "output_type": "stream",
     "text": [
      "Saved 11951 rows to pos_csv/omadussõnad_by_episode.csv\n",
      "Saved 47400 rows to pos_csv/nimisõnad_by_episode.csv\n",
      "Saved 20020 rows to pos_csv/adverbid_by_episode.csv\n",
      "Saved 18381 rows to pos_csv/verbid_by_episode.csv\n",
      "Saved 3027 rows to pos_csv/asesõnad_by_episode.csv\n",
      "Saved 1032 rows to pos_csv/partiklid_by_episode.csv\n",
      "Saved 3673 rows to pos_csv/kaassõnad_by_episode.csv\n"
     ]
    }
   ],
   "source": [
    "os.makedirs('pos_csv', exist_ok=True)\n",
    "\n",
    "# Ainulaadsete PoSide loend\n",
    "pos_list = df_all_pos['sõnaliik'].unique()\n",
    "\n",
    "# Iga sõnaliigi jaoks eraldi CSV\n",
    "for pos in pos_list:\n",
    "    df_pos = df_all_pos[df_all_pos['sõnaliik'] == pos].copy()\n",
    "    filename = os.path.join('pos_csv', f'{pos}_by_episode.csv')\n",
    "    df_pos.to_csv(filename, index=False)\n",
    "    print(f\"Saved {len(df_pos)} rows to {filename}\")"
   ]
  },
  {
   "cell_type": "code",
   "execution_count": 14,
   "id": "f74ffe76-d973-4ce3-8be2-5be937b6f1ba",
   "metadata": {},
   "outputs": [
    {
     "name": "stdout",
     "output_type": "stream",
     "text": [
      "Saved 46 comparisons for 'asesõnad' → gender_comparison_asesõnad.csv\n"
     ]
    },
    {
     "name": "stderr",
     "output_type": "stream",
     "text": [
      "/opt/anaconda3/envs/mlcondaenv/lib/python3.12/site-packages/scipy/integrate/_quadpack_py.py:1272: IntegrationWarning: The integral is probably divergent, or slowly convergent.\n",
      "  quad_r = quad(f, low, high, args=args, full_output=self.full_output,\n"
     ]
    },
    {
     "name": "stdout",
     "output_type": "stream",
     "text": [
      "Saved 50 comparisons for 'nimisõnad' → gender_comparison_nimisõnad.csv\n",
      "Saved 33 comparisons for 'partiklid' → gender_comparison_partiklid.csv\n"
     ]
    },
    {
     "name": "stderr",
     "output_type": "stream",
     "text": [
      "/opt/anaconda3/envs/mlcondaenv/lib/python3.12/site-packages/scipy/integrate/_quadpack_py.py:1272: IntegrationWarning: The integral is probably divergent, or slowly convergent.\n",
      "  quad_r = quad(f, low, high, args=args, full_output=self.full_output,\n"
     ]
    },
    {
     "name": "stdout",
     "output_type": "stream",
     "text": [
      "Saved 50 comparisons for 'adverbid' → gender_comparison_adverbid.csv\n"
     ]
    },
    {
     "name": "stderr",
     "output_type": "stream",
     "text": [
      "/opt/anaconda3/envs/mlcondaenv/lib/python3.12/site-packages/scipy/integrate/_quadpack_py.py:1272: IntegrationWarning: The integral is probably divergent, or slowly convergent.\n",
      "  quad_r = quad(f, low, high, args=args, full_output=self.full_output,\n"
     ]
    },
    {
     "name": "stdout",
     "output_type": "stream",
     "text": [
      "Saved 50 comparisons for 'verbid' → gender_comparison_verbid.csv\n",
      "Saved 50 comparisons for 'omadussõnad' → gender_comparison_omadussõnad.csv\n",
      "Saved 50 comparisons for 'kaassõnad' → gender_comparison_kaassõnad.csv\n"
     ]
    }
   ],
   "source": [
    "for filepath in glob.glob('pos_csv/*_by_episode.csv'):\n",
    "    pos = filepath.split('/')[-1].replace('_by_episode.csv','')\n",
    "    df = pd.read_csv(filepath)\n",
    "\n",
    "    df = df.dropna(subset=['feature'])\n",
    "\n",
    "    # top-50\n",
    "    top50 = (df.groupby('feature')['raw_count']\n",
    "               .sum()\n",
    "               .nlargest(50)\n",
    "               .index)\n",
    "    df = df[df['feature'].isin(top50)].copy()\n",
    "\n",
    "    # Gruppide modustamine\n",
    "    df['group'] = df['gender'].astype(str) + '_' + df['feature'].astype(str)\n",
    "\n",
    "    #Tukey HSD\n",
    "    tukey = pairwise_tukeyhsd(\n",
    "        endog  = df['freq_per_60_min'],\n",
    "        groups = df['group'],\n",
    "        alpha  = 0.05\n",
    "    )\n",
    "\n",
    "    # DataFrame\n",
    "    res = pd.DataFrame(\n",
    "        data    = tukey._results_table.data[1:],\n",
    "        columns = tukey._results_table.data[0]\n",
    "    )\n",
    "\n",
    "    # group1/group2 \n",
    "    res[['gender1','lemma1']] = res['group1'].str.split('_', expand=True)\n",
    "    res[['gender2','lemma2']] = res['group2'].str.split('_', expand=True)\n",
    "\n",
    "    # Jätame ainult võrdlused sama leemma piires\n",
    "    res_same = res[res['lemma1'] == res['lemma2']].copy()\n",
    "\n",
    "    # Lõplik tabel\n",
    "    output = res_same[[\n",
    "        'lemma1', 'group1', 'group2',\n",
    "        'meandiff', 'p-adj', 'lower', 'upper', 'reject'\n",
    "    ]].rename(columns={\n",
    "        'lemma1': 'lemma',\n",
    "        'p-adj':  'p_adj'\n",
    "    })\n",
    "\n",
    "    # Salvestamine\n",
    "    out_name = f'gender_comparison_{pos}.csv'\n",
    "    output.to_csv(out_name, index=False)\n",
    "    print(f\"Saved {len(output)} comparisons for '{pos}' → {out_name}\")"
   ]
  },
  {
   "cell_type": "code",
   "execution_count": 15,
   "id": "19512cf5-a3ac-4676-bffb-0282d3989715",
   "metadata": {},
   "outputs": [],
   "source": [
    "es_ja_tei_isiku_asesonad = ['mina', 'meie', 'sina', 'teie']\n",
    "records = []\n",
    "for ep in all_eps:\n",
    "    txt = Text(ep['transcript']).tag_layer('morph_analysis')\n",
    "    total_p = 0\n",
    "    fs_p    = 0\n",
    "    for token in txt.morph_analysis:\n",
    "        if token.partofspeech[0] == 'P':\n",
    "            total_p += 1\n",
    "            if token.lemma[0].lower() in es_ja_tei_isiku_asesonad:\n",
    "                fs_p += 1\n",
    "    freq_fs = (fs_p / ep['minutid']) * 60 if ep['minutid']>0 else 0.0\n",
    "\n",
    "    records.append({\n",
    "        'episode_id':      ep['episode_id'],\n",
    "        'gender':          ep['gender'],\n",
    "        'fs_pron_count':   fs_p,\n",
    "        'freq_fs_per_h':   freq_fs\n",
    "    })\n",
    "\n",
    "df_fs = pd.DataFrame(records)\n",
    "\n",
    "\n",
    "df_fs.to_csv('first_second_pronouns_by_episode.csv', index=False)"
   ]
  },
  {
   "cell_type": "code",
   "execution_count": 16,
   "id": "cf267f0e-76c8-4f0d-9d58-e029201d87ea",
   "metadata": {},
   "outputs": [
    {
     "name": "stdout",
     "output_type": "stream",
     "text": [
      "                 sum_sq     df         F    PR(>F)\n",
      "C(gender)  1.502839e+05    1.0  4.380401  0.038787\n",
      "Residual   3.568059e+06  104.0       NaN       NaN\n"
     ]
    }
   ],
   "source": [
    "model = ols('freq_fs_per_h ~ C(gender)', data=df_fs).fit()\n",
    "anova_table = sm.stats.anova_lm(model, typ=2)\n",
    "print(anova_table)"
   ]
  },
  {
   "cell_type": "code",
   "execution_count": 17,
   "id": "33f607b8-7e8f-48fe-a19a-54bc6a31336e",
   "metadata": {},
   "outputs": [
    {
     "data": {
      "text/plain": [
       "gender\n",
       "F    489.947427\n",
       "M    414.425383\n",
       "Name: freq_fs_per_h, dtype: float64"
      ]
     },
     "execution_count": 17,
     "metadata": {},
     "output_type": "execute_result"
    }
   ],
   "source": [
    "df_fs.groupby('gender')['freq_fs_per_h'].mean()"
   ]
  }
 ],
 "metadata": {
  "kernelspec": {
   "display_name": "Python 3 (ipykernel)",
   "language": "python",
   "name": "python3"
  },
  "language_info": {
   "codemirror_mode": {
    "name": "ipython",
    "version": 3
   },
   "file_extension": ".py",
   "mimetype": "text/x-python",
   "name": "python",
   "nbconvert_exporter": "python",
   "pygments_lexer": "ipython3",
   "version": "3.12.2"
  }
 },
 "nbformat": 4,
 "nbformat_minor": 5
}
